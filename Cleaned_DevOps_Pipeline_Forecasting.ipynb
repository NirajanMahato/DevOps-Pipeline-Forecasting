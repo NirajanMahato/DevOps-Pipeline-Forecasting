{
  "cells": [
    {
      "cell_type": "code",
      "execution_count": 16,
      "metadata": {},
      "outputs": [
        {
          "name": "stdout",
          "output_type": "stream",
          "text": [
            "Libraries loaded successfully!\n"
          ]
        }
      ],
      "source": [
        "# 1. Environment Setup and Data Loading\n",
        "# Loads all necessary libraries and tools\n",
        "\n",
        "import requests\n",
        "import zipfile\n",
        "import io\n",
        "import pandas as pd\n",
        "import numpy as np\n",
        "import matplotlib.pyplot as plt\n",
        "import seaborn as sns\n",
        "from sklearn.model_selection import train_test_split\n",
        "from sklearn.metrics import mean_absolute_error, r2_score\n",
        "import lightgbm as lgb\n",
        "import joblib\n",
        "import json\n",
        "\n",
        "plt.style.use('default')\n",
        "sns.set_palette(\"husl\")\n",
        "\n",
        "print(\"Libraries loaded successfully!\")"
      ]
    },
    {
      "cell_type": "code",
      "execution_count": 17,
      "metadata": {},
      "outputs": [
        {
          "name": "stdout",
          "output_type": "stream",
          "text": [
            "Downloading Ruby on Rails CI/CD dataset...\n",
            "Dataset loaded: 3,594,276 rows and 18 columns\n"
          ]
        },
        {
          "data": {
            "text/html": [
              "<div>\n",
              "<style scoped>\n",
              "    .dataframe tbody tr th:only-of-type {\n",
              "        vertical-align: middle;\n",
              "    }\n",
              "\n",
              "    .dataframe tbody tr th {\n",
              "        vertical-align: top;\n",
              "    }\n",
              "\n",
              "    .dataframe thead th {\n",
              "        text-align: right;\n",
              "    }\n",
              "</style>\n",
              "<table border=\"1\" class=\"dataframe\">\n",
              "  <thead>\n",
              "    <tr style=\"text-align: right;\">\n",
              "      <th></th>\n",
              "      <th>Test Suite</th>\n",
              "      <th>Test Suite Start Time</th>\n",
              "      <th>Test Suite Duration</th>\n",
              "      <th>Test Suite Runs</th>\n",
              "      <th>Test Suite Assertions</th>\n",
              "      <th>Test Suite Failures</th>\n",
              "      <th>Test Suite Errors</th>\n",
              "      <th>Test Suite Skips</th>\n",
              "      <th>Build Number</th>\n",
              "      <th>Build Pull Request</th>\n",
              "      <th>Commit Sha</th>\n",
              "      <th>Build State</th>\n",
              "      <th>Build Start Time</th>\n",
              "      <th>Build Finish Time</th>\n",
              "      <th>Build Duration</th>\n",
              "      <th>Job Id</th>\n",
              "      <th>Job Start Time</th>\n",
              "      <th>Job Allow Failure</th>\n",
              "    </tr>\n",
              "  </thead>\n",
              "  <tbody>\n",
              "    <tr>\n",
              "      <th>0</th>\n",
              "      <td>railties/test/app_rails_loader_test.rb</td>\n",
              "      <td>2016-03-24 19:01:23.0</td>\n",
              "      <td>0.035011</td>\n",
              "      <td>16</td>\n",
              "      <td>20</td>\n",
              "      <td>0</td>\n",
              "      <td>0</td>\n",
              "      <td>0</td>\n",
              "      <td>33391</td>\n",
              "      <td>True</td>\n",
              "      <td>246c1248e5f5e38125898a72d21d4fe58e6182be</td>\n",
              "      <td>passed,2016-03-24 19:01:23.0</td>\n",
              "      <td>2016-03-24 19:22:08.0</td>\n",
              "      <td>1245000.0</td>\n",
              "      <td>118308786</td>\n",
              "      <td>2016-03-24 18:42:35.0</td>\n",
              "      <td>False</td>\n",
              "      <td>NaN</td>\n",
              "    </tr>\n",
              "    <tr>\n",
              "      <th>1</th>\n",
              "      <td>railties/test/application/asset_debugging_test.rb</td>\n",
              "      <td>2016-03-24 19:01:23.0</td>\n",
              "      <td>17.408814</td>\n",
              "      <td>2</td>\n",
              "      <td>9</td>\n",
              "      <td>0</td>\n",
              "      <td>0</td>\n",
              "      <td>0</td>\n",
              "      <td>33391</td>\n",
              "      <td>True</td>\n",
              "      <td>246c1248e5f5e38125898a72d21d4fe58e6182be</td>\n",
              "      <td>passed,2016-03-24 19:01:23.0</td>\n",
              "      <td>2016-03-24 19:22:08.0</td>\n",
              "      <td>1245000.0</td>\n",
              "      <td>118308786</td>\n",
              "      <td>2016-03-24 18:42:35.0</td>\n",
              "      <td>False</td>\n",
              "      <td>NaN</td>\n",
              "    </tr>\n",
              "    <tr>\n",
              "      <th>2</th>\n",
              "      <td>railties/test/backtrace_cleaner_test.rb</td>\n",
              "      <td>2016-03-24 19:01:40.0</td>\n",
              "      <td>162.113491</td>\n",
              "      <td>30</td>\n",
              "      <td>116</td>\n",
              "      <td>0</td>\n",
              "      <td>0</td>\n",
              "      <td>0</td>\n",
              "      <td>33391</td>\n",
              "      <td>True</td>\n",
              "      <td>246c1248e5f5e38125898a72d21d4fe58e6182be</td>\n",
              "      <td>passed,2016-03-24 19:01:23.0</td>\n",
              "      <td>2016-03-24 19:22:08.0</td>\n",
              "      <td>1245000.0</td>\n",
              "      <td>118308786</td>\n",
              "      <td>2016-03-24 18:42:35.0</td>\n",
              "      <td>False</td>\n",
              "      <td>NaN</td>\n",
              "    </tr>\n",
              "    <tr>\n",
              "      <th>3</th>\n",
              "      <td>railties/test/code_statistics_calculator_test.rb</td>\n",
              "      <td>2016-03-24 19:04:22.0</td>\n",
              "      <td>41.402265</td>\n",
              "      <td>2</td>\n",
              "      <td>7</td>\n",
              "      <td>0</td>\n",
              "      <td>0</td>\n",
              "      <td>0</td>\n",
              "      <td>33391</td>\n",
              "      <td>True</td>\n",
              "      <td>246c1248e5f5e38125898a72d21d4fe58e6182be</td>\n",
              "      <td>passed,2016-03-24 19:01:23.0</td>\n",
              "      <td>2016-03-24 19:22:08.0</td>\n",
              "      <td>1245000.0</td>\n",
              "      <td>118308786</td>\n",
              "      <td>2016-03-24 18:42:35.0</td>\n",
              "      <td>False</td>\n",
              "      <td>NaN</td>\n",
              "    </tr>\n",
              "    <tr>\n",
              "      <th>4</th>\n",
              "      <td>railties/test/engine_test.rb</td>\n",
              "      <td>2016-03-24 19:05:03.0</td>\n",
              "      <td>2.786692</td>\n",
              "      <td>1</td>\n",
              "      <td>6</td>\n",
              "      <td>0</td>\n",
              "      <td>0</td>\n",
              "      <td>0</td>\n",
              "      <td>33391</td>\n",
              "      <td>True</td>\n",
              "      <td>246c1248e5f5e38125898a72d21d4fe58e6182be</td>\n",
              "      <td>passed,2016-03-24 19:01:23.0</td>\n",
              "      <td>2016-03-24 19:22:08.0</td>\n",
              "      <td>1245000.0</td>\n",
              "      <td>118308786</td>\n",
              "      <td>2016-03-24 18:42:35.0</td>\n",
              "      <td>False</td>\n",
              "      <td>NaN</td>\n",
              "    </tr>\n",
              "  </tbody>\n",
              "</table>\n",
              "</div>"
            ],
            "text/plain": [
              "                                          Test Suite  Test Suite Start Time  \\\n",
              "0             railties/test/app_rails_loader_test.rb  2016-03-24 19:01:23.0   \n",
              "1  railties/test/application/asset_debugging_test.rb  2016-03-24 19:01:23.0   \n",
              "2            railties/test/backtrace_cleaner_test.rb  2016-03-24 19:01:40.0   \n",
              "3   railties/test/code_statistics_calculator_test.rb  2016-03-24 19:04:22.0   \n",
              "4                       railties/test/engine_test.rb  2016-03-24 19:05:03.0   \n",
              "\n",
              "   Test Suite Duration  Test Suite Runs  Test Suite Assertions  \\\n",
              "0             0.035011               16                     20   \n",
              "1            17.408814                2                      9   \n",
              "2           162.113491               30                    116   \n",
              "3            41.402265                2                      7   \n",
              "4             2.786692                1                      6   \n",
              "\n",
              "   Test Suite Failures  Test Suite Errors  Test Suite Skips  Build Number  \\\n",
              "0                    0                  0                 0         33391   \n",
              "1                    0                  0                 0         33391   \n",
              "2                    0                  0                 0         33391   \n",
              "3                    0                  0                 0         33391   \n",
              "4                    0                  0                 0         33391   \n",
              "\n",
              "   Build Pull Request                                Commit Sha  \\\n",
              "0                True  246c1248e5f5e38125898a72d21d4fe58e6182be   \n",
              "1                True  246c1248e5f5e38125898a72d21d4fe58e6182be   \n",
              "2                True  246c1248e5f5e38125898a72d21d4fe58e6182be   \n",
              "3                True  246c1248e5f5e38125898a72d21d4fe58e6182be   \n",
              "4                True  246c1248e5f5e38125898a72d21d4fe58e6182be   \n",
              "\n",
              "                    Build State       Build Start Time  Build Finish Time  \\\n",
              "0  passed,2016-03-24 19:01:23.0  2016-03-24 19:22:08.0          1245000.0   \n",
              "1  passed,2016-03-24 19:01:23.0  2016-03-24 19:22:08.0          1245000.0   \n",
              "2  passed,2016-03-24 19:01:23.0  2016-03-24 19:22:08.0          1245000.0   \n",
              "3  passed,2016-03-24 19:01:23.0  2016-03-24 19:22:08.0          1245000.0   \n",
              "4  passed,2016-03-24 19:01:23.0  2016-03-24 19:22:08.0          1245000.0   \n",
              "\n",
              "   Build Duration                 Job Id  Job Start Time  Job Allow Failure  \n",
              "0       118308786  2016-03-24 18:42:35.0           False                NaN  \n",
              "1       118308786  2016-03-24 18:42:35.0           False                NaN  \n",
              "2       118308786  2016-03-24 18:42:35.0           False                NaN  \n",
              "3       118308786  2016-03-24 18:42:35.0           False                NaN  \n",
              "4       118308786  2016-03-24 18:42:35.0           False                NaN  "
            ]
          },
          "execution_count": 17,
          "metadata": {},
          "output_type": "execute_result"
        }
      ],
      "source": [
        "# 2. Download and Load the Dataset\n",
        "# Downloads the CI/CD pipeline data from the Ruby on Rails project\n",
        "\n",
        "print(\"Downloading Ruby on Rails CI/CD dataset...\")\n",
        "url = 'https://github.com/elbaum/CI-Datasets/raw/master/RailsCleanData.out.zip'\n",
        "response = requests.get(url)\n",
        "response.raise_for_status()\n",
        "\n",
        "with zipfile.ZipFile(io.BytesIO(response.content)) as z:\n",
        "    file_name = z.namelist()[0]\n",
        "    column_names = [\n",
        "        'Test Suite', 'Test Suite Start Time', 'Test Suite Duration',\n",
        "        'Test Suite Runs', 'Test Suite Assertions', 'Test Suite Failures',\n",
        "        'Test Suite Errors', 'Test Suite Skips', 'Build Number',\n",
        "        'Build Pull Request', 'Commit Sha', 'Build State',\n",
        "        'Build Start Time', 'Build Finish Time', 'Build Duration',\n",
        "        'Job Id', 'Job Start Time', 'Job Allow Failure'\n",
        "    ]\n",
        "    df = pd.read_csv(z.open(file_name), sep=';', header=None, names=column_names)\n",
        "\n",
        "print(f\"Dataset loaded: {df.shape[0]:,} rows and {df.shape[1]} columns\")\n",
        "df.head()"
      ]
    },
    {
      "cell_type": "code",
      "execution_count": 18,
      "metadata": {},
      "outputs": [
        {
          "name": "stdout",
          "output_type": "stream",
          "text": [
            "Removed 35,943 outliers (top 1% of durations)\n",
            "Feature engineering complete!\n",
            "Final dataset size: 3,558,333 rows\n"
          ]
        }
      ],
      "source": [
        "# 3. Data Cleaning and Feature Engineering\n",
        "# Cleans the data and creates new features for prediction\n",
        "\n",
        "df.columns = df.columns.str.strip()\n",
        "time_columns = ['Test Suite Start Time', 'Build Start Time', 'Build Finish Time']\n",
        "for col in time_columns:\n",
        "    df[col] = pd.to_datetime(df[col], errors='coerce')\n",
        "\n",
        "duration_upper_bound = df['Test Suite Duration'].quantile(0.99)\n",
        "initial_size = len(df)\n",
        "df = df[df['Test Suite Duration'] < duration_upper_bound]\n",
        "print(f\"Removed {initial_size - len(df):,} outliers (top 1% of durations)\")\n",
        "\n",
        "df['start_day_of_week'] = df['Test Suite Start Time'].dt.dayofweek\n",
        "df['start_hour_of_day'] = df['Test Suite Start Time'].dt.hour\n",
        "df['log_duration'] = np.log1p(df['Test Suite Duration'])\n",
        "\n",
        "print(\"Feature engineering complete!\")\n",
        "print(f\"Final dataset size: {len(df):,} rows\")"
      ]
    },
    {
      "cell_type": "code",
      "execution_count": 19,
      "metadata": {},
      "outputs": [
        {
          "name": "stdout",
          "output_type": "stream",
          "text": [
            "Duration Statistics (in seconds):\n",
            "count    3.558333e+06\n",
            "mean     8.429412e+00\n",
            "std      3.049998e+01\n",
            "min      1.438390e-04\n",
            "25%      5.468170e-02\n",
            "50%      2.908430e-01\n",
            "75%      1.632909e+00\n",
            "max      2.926757e+02\n",
            "Name: Test Suite Duration, dtype: float64\n"
          ]
        },
        {
          "data": {
            "image/png": "[encoded data removed]",
            "text/plain": [
              "<Figure size 1500x500 with 2 Axes>"
            ]
          },
          "metadata": {},
          "output_type": "display_data"
        }
      ],
      "source": [
        "# 4. Exploratory Data Analysis\n",
        "# Visualizes the distribution of pipeline durations\n",
        "\n",
        "print(\"Duration Statistics (in seconds):\")\n",
        "print(df['Test Suite Duration'].describe())\n",
        "\n",
        "fig, (ax1, ax2) = plt.subplots(1, 2, figsize=(15, 5))\n",
        "ax1.hist(df['Test Suite Duration'], bins=50, alpha=0.7, color='skyblue')\n",
        "ax1.set_title('Test Suite Duration Distribution')\n",
        "ax1.set_xlabel('Duration (seconds)')\n",
        "ax1.set_ylabel('Frequency')\n",
        "\n",
        "ax2.hist(df['Test Suite Duration'], bins=50, alpha=0.7, color='lightcoral')\n",
        "ax2.set_yscale('log')\n",
        "ax2.set_title('Duration Distribution (Log Scale)')\n",
        "ax2.set_xlabel('Duration (seconds)')\n",
        "ax2.set_ylabel('Frequency (log scale)')\n",
        "\n",
        "plt.tight_layout()\n",
        "plt.show()"
      ]
    },
    {
      "cell_type": "code",
      "execution_count": null,
      "metadata": {},
      "outputs": [
        {
          "name": "stdout",
          "output_type": "stream",
          "text": [
            "Adding synthetic time effect to target variable...\n"
          ]
        }
      ],
      "source": [
        "# 5. Add Synthetic Time Effect\n",
        "# Adds a synthetic effect so the model will be sensitive to hour and day\n",
        "\n",
        "print(\"Adding synthetic time effect to target variable...\")\n",
        "\n",
        "df['Test Suite Duration (Synthetic)'] = (\n",
        "    df['Test Suite Duration']\n",
        "    + df['start_hour_of_day'] * 2.0   # Add 2s per hour\n",
        "    + df['start_day_of_week'] * 5.0   # Add 5s per day of week\n",
        ")\n",
        "df['log_duration_synth'] = np.log1p(df['Test Suite Duration (Synthetic)'])"
      ]
    },
    {
      "cell_type": "code",
      "execution_count": 21,
      "metadata": {},
      "outputs": [
        {
          "name": "stdout",
          "output_type": "stream",
          "text": [
            "Clean data for modeling: 3,558,333 samples\n",
            "Model training completed!\n"
          ]
        }
      ],
      "source": [
        "# 6. Model Development (Time-Sensitive Model)\n",
        "# Trains a LightGBM model using the synthetic time-sensitive target\n",
        "\n",
        "feature_columns = ['Build Pull Request', 'start_hour_of_day', 'start_day_of_week', 'Test Suite']\n",
        "target_column = 'log_duration_synth'\n",
        "\n",
        "model_data = df.dropna(subset=feature_columns + [target_column]).copy()\n",
        "print(f\"Clean data for modeling: {len(model_data):,} samples\")\n",
        "\n",
        "X = model_data[feature_columns]\n",
        "y = model_data[target_column]\n",
        "\n",
        "X_train, X_test, y_train, y_test = train_test_split(\n",
        "    X, y, test_size=0.2, random_state=42\n",
        ")\n",
        "\n",
        "X_train_cat = X_train.copy()\n",
        "X_test_cat = X_test.copy()\n",
        "X_train_cat['Test Suite'] = X_train_cat['Test Suite'].astype('category')\n",
        "X_test_cat['Test Suite'] = X_test_cat['Test Suite'].astype('category')\n",
        "\n",
        "model = lgb.LGBMRegressor(\n",
        "    n_estimators=100,\n",
        "    learning_rate=0.1,\n",
        "    max_depth=6,\n",
        "    random_state=42,\n",
        "    verbose=-1\n",
        ")\n",
        "model.fit(X_train_cat, y_train, categorical_feature=['Test Suite'])\n",
        "print(\"Model training completed!\")"
      ]
    },
    {
      "cell_type": "code",
      "execution_count": 22,
      "metadata": {},
      "outputs": [
        {
          "name": "stdout",
          "output_type": "stream",
          "text": [
            "=== Model Performance (Synthetic Time Effect) ===\n",
            "Mean Absolute Error: 3.03 seconds\n",
            "R-squared Score: 0.8535\n"
          ]
        },
        {
          "data": {
            "image/png": "[encoded data removed]",
            "text/plain": [
              "<Figure size 640x480 with 1 Axes>"
            ]
          },
          "metadata": {},
          "output_type": "display_data"
        }
      ],
      "source": [
        "# 7. Model Evaluation and Feature Importance\n",
        "\n",
        "y_pred_log = model.predict(X_test_cat)\n",
        "y_pred = np.expm1(y_pred_log)\n",
        "y_test_orig = np.expm1(y_test)\n",
        "\n",
        "mae = mean_absolute_error(y_test_orig, y_pred)\n",
        "r2 = r2_score(y_test_orig, y_pred)\n",
        "\n",
        "print(\"=== Model Performance (Synthetic Time Effect) ===\")\n",
        "print(f\"Mean Absolute Error: {mae:.2f} seconds\")\n",
        "print(f\"R-squared Score: {r2:.4f}\")\n",
        "\n",
        "lgb.plot_importance(model, max_num_features=10)\n",
        "plt.title(\"Feature Importance (Synthetic Time Effect)\")\n",
        "plt.show()"
      ]
    },
    {
      "cell_type": "code",
      "execution_count": 23,
      "metadata": {},
      "outputs": [
        {
          "name": "stdout",
          "output_type": "stream",
          "text": [
            "Model saved as: pipeline_duration_model_enhanced.pkl\n",
            "Model info saved as: model_info_enhanced.json\n"
          ]
        }
      ],
      "source": [
        "# 8. Export Model and Metadata\n",
        "\n",
        "model_filename = 'pipeline_duration_model_enhanced.pkl'\n",
        "joblib.dump(model, model_filename)\n",
        "print(f\"Model saved as: {model_filename}\")\n",
        "\n",
        "model_info = {\n",
        "    'features': feature_columns,\n",
        "    'target': target_column,\n",
        "    'categorical_features': ['Test Suite'],\n",
        "    'model_version': 'enhanced_time_sensitive',\n",
        "    'performance': {\n",
        "        'mae_seconds': float(mae),\n",
        "        'r2_score': float(r2)\n",
        "    },\n",
        "    'description': 'LightGBM model with synthetic time effect for predicting CI/CD pipeline durations'\n",
        "}\n",
        "info_filename = 'model_info_enhanced.json'\n",
        "with open(info_filename, 'w') as f:\n",
        "    json.dump(model_info, f, indent=2)\n",
        "print(f\"Model info saved as: {info_filename}\")"
      ]
    },
    {
      "cell_type": "code",
      "execution_count": 24,
      "metadata": {},
      "outputs": [
        {
          "name": "stdout",
          "output_type": "stream",
          "text": [
            "\n",
            "=== Model Test Predictions (Time Sensitivity) ===\n",
            "PR build, hour=0, day=0 → 4.7s\n",
            "PR build, hour=0, day=3 → 40.4s\n",
            "PR build, hour=0, day=6 → 74.3s\n",
            "PR build, hour=8, day=0 → 41.9s\n",
            "PR build, hour=8, day=3 → 72.0s\n",
            "PR build, hour=8, day=6 → 110.3s\n",
            "PR build, hour=12, day=0 → 57.5s\n",
            "PR build, hour=12, day=3 → 93.2s\n",
            "PR build, hour=12, day=6 → 126.4s\n",
            "PR build, hour=18, day=0 → 81.9s\n",
            "PR build, hour=18, day=3 → 117.2s\n",
            "PR build, hour=18, day=6 → 150.5s\n",
            "PR build, hour=23, day=0 → 101.1s\n",
            "PR build, hour=23, day=3 → 133.7s\n",
            "PR build, hour=23, day=6 → 165.7s\n"
          ]
        }
      ],
      "source": [
        "# 9. Test Predictions for Different Times\n",
        "\n",
        "def predict_duration(is_pull_request, hour_of_day, day_of_week, test_suite):\n",
        "    input_data = pd.DataFrame({\n",
        "        'Build Pull Request': [is_pull_request],\n",
        "        'start_hour_of_day': [hour_of_day],\n",
        "        'start_day_of_week': [day_of_week],\n",
        "        'Test Suite': [test_suite]\n",
        "    })\n",
        "    input_data['Test Suite'] = input_data['Test Suite'].astype('category')\n",
        "    prediction_log = model.predict(input_data)[0]\n",
        "    prediction_seconds = np.expm1(prediction_log)\n",
        "    return prediction_seconds\n",
        "\n",
        "print(\"\\n=== Model Test Predictions (Time Sensitivity) ===\")\n",
        "for hour in [0, 8, 12, 18, 23]:\n",
        "    for day in [0, 3, 6]:\n",
        "        duration = predict_duration(True, hour, day, \"test/unit\")\n",
        "        print(f\"PR build, hour={hour}, day={day} → {duration:.1f}s\")"
      ]
    },
    {
      "cell_type": "code",
      "execution_count": null,
      "metadata": {},
      "outputs": [
        {
          "name": "stdout",
          "output_type": "stream",
          "text": [
            "This notebook demonstrates a time-sensitive model for CI/CD pipeline duration prediction.\n",
            "The model is now highly sensitive to hour and day, thanks to a synthetic effect added to the target variable.\n",
            "You can now use this model in your API and dashboard for demonstration or educational purposes.\n"
          ]
        }
      ],
      "source": [
        "# 10. Summary\n",
        "\n",
        "print(\"This notebook demonstrates a time-sensitive model for CI/CD pipeline duration prediction.\")\n",
        "print(\"The model is now highly sensitive to hour and day, thanks to a synthetic effect added to the target variable.\")"
      ]
    }
  ],
  "metadata": {
    "kernelspec": {
      "display_name": "Python 3",
      "language": "python",
      "name": "python3"
    },
    "language_info": {
      "codemirror_mode": {
        "name": "ipython",
        "version": 3
      },
      "file_extension": ".py",
      "mimetype": "text/x-python",
      "name": "python",
      "nbconvert_exporter": "python",
      "pygments_lexer": "ipython3",
      "version": "3.11.0"
    }
  },
  "nbformat": 4,
  "nbformat_minor": 2
}
